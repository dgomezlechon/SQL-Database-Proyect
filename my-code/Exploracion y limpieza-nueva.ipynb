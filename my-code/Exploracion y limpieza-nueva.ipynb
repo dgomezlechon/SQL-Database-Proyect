{
 "cells": [
  {
   "cell_type": "code",
   "execution_count": 1,
   "id": "da2d6d7a",
   "metadata": {},
   "outputs": [],
   "source": [
    "import pandas as pd\n",
    "pd.set_option('display.max_columns', None)"
   ]
  },
  {
   "cell_type": "code",
   "execution_count": 2,
   "id": "4040d8a3",
   "metadata": {},
   "outputs": [],
   "source": [
    "import warnings\n",
    "warnings.simplefilter('ignore')\n",
    "\n",
    "# para pintar\n",
    "import pylab as plt\n",
    "import seaborn as sns\n",
    "import numpy as np\n",
    "\n",
    "# para que salga el grafico\n",
    "%matplotlib inline "
   ]
  },
  {
   "cell_type": "markdown",
   "id": "d13c3bb2",
   "metadata": {},
   "source": [
    "\n",
    "## Carga de los datos"
   ]
  },
  {
   "cell_type": "code",
   "execution_count": 3,
   "id": "52f7d23b",
   "metadata": {},
   "outputs": [],
   "source": [
    "actor_csv=pd.read_csv(\"../data/actor.csv\")\n",
    "category_csv=pd.read_csv(\"../data/category.csv\")\n",
    "film_csv=pd.read_csv(\"../data/film.csv\")\n",
    "inventory_csv=pd.read_csv(\"../data/inventory.csv\")\n",
    "language_csv=pd.read_csv(\"../data/language.csv\")\n",
    "rental_csv=pd.read_csv(\"../data/rental.csv\")\n",
    "old_hdd_csv=pd.read_csv(\"../data/old_HDD.csv\")"
   ]
  },
  {
   "cell_type": "markdown",
   "id": "330d501a",
   "metadata": {},
   "source": [
    "## Exploración de los datos"
   ]
  },
  {
   "cell_type": "markdown",
   "id": "665a5d73",
   "metadata": {},
   "source": [
    "Exploramos actor_csv"
   ]
  },
  {
   "cell_type": "code",
   "execution_count": 4,
   "id": "04de1b58",
   "metadata": {},
   "outputs": [
    {
     "data": {
      "text/html": [
       "<div>\n",
       "<style scoped>\n",
       "    .dataframe tbody tr th:only-of-type {\n",
       "        vertical-align: middle;\n",
       "    }\n",
       "\n",
       "    .dataframe tbody tr th {\n",
       "        vertical-align: top;\n",
       "    }\n",
       "\n",
       "    .dataframe thead th {\n",
       "        text-align: right;\n",
       "    }\n",
       "</style>\n",
       "<table border=\"1\" class=\"dataframe\">\n",
       "  <thead>\n",
       "    <tr style=\"text-align: right;\">\n",
       "      <th></th>\n",
       "      <th>actor_id</th>\n",
       "      <th>first_name</th>\n",
       "      <th>last_name</th>\n",
       "      <th>last_update</th>\n",
       "    </tr>\n",
       "  </thead>\n",
       "  <tbody>\n",
       "    <tr>\n",
       "      <th>0</th>\n",
       "      <td>1</td>\n",
       "      <td>PENELOPE</td>\n",
       "      <td>GUINESS</td>\n",
       "      <td>2006-02-15 04:34:33</td>\n",
       "    </tr>\n",
       "    <tr>\n",
       "      <th>1</th>\n",
       "      <td>2</td>\n",
       "      <td>NICK</td>\n",
       "      <td>WAHLBERG</td>\n",
       "      <td>2006-02-15 04:34:33</td>\n",
       "    </tr>\n",
       "  </tbody>\n",
       "</table>\n",
       "</div>"
      ],
      "text/plain": [
       "   actor_id first_name last_name          last_update\n",
       "0         1   PENELOPE   GUINESS  2006-02-15 04:34:33\n",
       "1         2       NICK  WAHLBERG  2006-02-15 04:34:33"
      ]
     },
     "execution_count": 4,
     "metadata": {},
     "output_type": "execute_result"
    }
   ],
   "source": [
    "actor_csv.head(2)"
   ]
  },
  {
   "cell_type": "code",
   "execution_count": 5,
   "id": "40acc7a3",
   "metadata": {},
   "outputs": [
    {
     "name": "stdout",
     "output_type": "stream",
     "text": [
      "<class 'pandas.core.frame.DataFrame'>\n",
      "RangeIndex: 200 entries, 0 to 199\n",
      "Data columns (total 4 columns):\n",
      " #   Column       Non-Null Count  Dtype \n",
      "---  ------       --------------  ----- \n",
      " 0   actor_id     200 non-null    int64 \n",
      " 1   first_name   200 non-null    object\n",
      " 2   last_name    200 non-null    object\n",
      " 3   last_update  200 non-null    object\n",
      "dtypes: int64(1), object(3)\n",
      "memory usage: 6.4+ KB\n"
     ]
    }
   ],
   "source": [
    "actor_csv.info()"
   ]
  },
  {
   "cell_type": "markdown",
   "id": "e7e72e33",
   "metadata": {},
   "source": [
    "Exploramos category_csv:"
   ]
  },
  {
   "cell_type": "code",
   "execution_count": 6,
   "id": "78e3027e",
   "metadata": {},
   "outputs": [
    {
     "data": {
      "text/html": [
       "<div>\n",
       "<style scoped>\n",
       "    .dataframe tbody tr th:only-of-type {\n",
       "        vertical-align: middle;\n",
       "    }\n",
       "\n",
       "    .dataframe tbody tr th {\n",
       "        vertical-align: top;\n",
       "    }\n",
       "\n",
       "    .dataframe thead th {\n",
       "        text-align: right;\n",
       "    }\n",
       "</style>\n",
       "<table border=\"1\" class=\"dataframe\">\n",
       "  <thead>\n",
       "    <tr style=\"text-align: right;\">\n",
       "      <th></th>\n",
       "      <th>category_id</th>\n",
       "      <th>name</th>\n",
       "      <th>last_update</th>\n",
       "    </tr>\n",
       "  </thead>\n",
       "  <tbody>\n",
       "    <tr>\n",
       "      <th>0</th>\n",
       "      <td>1</td>\n",
       "      <td>Action</td>\n",
       "      <td>2006-02-15 04:46:27</td>\n",
       "    </tr>\n",
       "  </tbody>\n",
       "</table>\n",
       "</div>"
      ],
      "text/plain": [
       "   category_id    name          last_update\n",
       "0            1  Action  2006-02-15 04:46:27"
      ]
     },
     "execution_count": 6,
     "metadata": {},
     "output_type": "execute_result"
    }
   ],
   "source": [
    "category_csv.head(1)"
   ]
  },
  {
   "cell_type": "code",
   "execution_count": 7,
   "id": "e7ea1fa7",
   "metadata": {},
   "outputs": [
    {
     "name": "stdout",
     "output_type": "stream",
     "text": [
      "<class 'pandas.core.frame.DataFrame'>\n",
      "RangeIndex: 16 entries, 0 to 15\n",
      "Data columns (total 3 columns):\n",
      " #   Column       Non-Null Count  Dtype \n",
      "---  ------       --------------  ----- \n",
      " 0   category_id  16 non-null     int64 \n",
      " 1   name         16 non-null     object\n",
      " 2   last_update  16 non-null     object\n",
      "dtypes: int64(1), object(2)\n",
      "memory usage: 512.0+ bytes\n"
     ]
    }
   ],
   "source": [
    "category_csv.info()"
   ]
  },
  {
   "cell_type": "markdown",
   "id": "fa70a784",
   "metadata": {},
   "source": [
    "Exploramos film_csv:"
   ]
  },
  {
   "cell_type": "code",
   "execution_count": 8,
   "id": "83ffaf81",
   "metadata": {},
   "outputs": [
    {
     "data": {
      "text/html": [
       "<div>\n",
       "<style scoped>\n",
       "    .dataframe tbody tr th:only-of-type {\n",
       "        vertical-align: middle;\n",
       "    }\n",
       "\n",
       "    .dataframe tbody tr th {\n",
       "        vertical-align: top;\n",
       "    }\n",
       "\n",
       "    .dataframe thead th {\n",
       "        text-align: right;\n",
       "    }\n",
       "</style>\n",
       "<table border=\"1\" class=\"dataframe\">\n",
       "  <thead>\n",
       "    <tr style=\"text-align: right;\">\n",
       "      <th></th>\n",
       "      <th>film_id</th>\n",
       "      <th>title</th>\n",
       "      <th>description</th>\n",
       "      <th>release_year</th>\n",
       "      <th>language_id</th>\n",
       "      <th>original_language_id</th>\n",
       "      <th>rental_duration</th>\n",
       "      <th>rental_rate</th>\n",
       "      <th>length</th>\n",
       "      <th>replacement_cost</th>\n",
       "      <th>rating</th>\n",
       "      <th>special_features</th>\n",
       "      <th>last_update</th>\n",
       "    </tr>\n",
       "  </thead>\n",
       "  <tbody>\n",
       "    <tr>\n",
       "      <th>0</th>\n",
       "      <td>1</td>\n",
       "      <td>ACADEMY DINOSAUR</td>\n",
       "      <td>A Epic Drama of a Feminist And a Mad Scientist...</td>\n",
       "      <td>2006</td>\n",
       "      <td>1</td>\n",
       "      <td>NaN</td>\n",
       "      <td>6</td>\n",
       "      <td>0.99</td>\n",
       "      <td>86</td>\n",
       "      <td>20.99</td>\n",
       "      <td>PG</td>\n",
       "      <td>Deleted Scenes,Behind the Scenes</td>\n",
       "      <td>2006-02-15 05:03:42</td>\n",
       "    </tr>\n",
       "    <tr>\n",
       "      <th>1</th>\n",
       "      <td>2</td>\n",
       "      <td>ACE GOLDFINGER</td>\n",
       "      <td>A Astounding Epistle of a Database Administrat...</td>\n",
       "      <td>2006</td>\n",
       "      <td>1</td>\n",
       "      <td>NaN</td>\n",
       "      <td>3</td>\n",
       "      <td>4.99</td>\n",
       "      <td>48</td>\n",
       "      <td>12.99</td>\n",
       "      <td>G</td>\n",
       "      <td>Trailers,Deleted Scenes</td>\n",
       "      <td>2006-02-15 05:03:42</td>\n",
       "    </tr>\n",
       "  </tbody>\n",
       "</table>\n",
       "</div>"
      ],
      "text/plain": [
       "   film_id             title  \\\n",
       "0        1  ACADEMY DINOSAUR   \n",
       "1        2    ACE GOLDFINGER   \n",
       "\n",
       "                                         description  release_year  \\\n",
       "0  A Epic Drama of a Feminist And a Mad Scientist...          2006   \n",
       "1  A Astounding Epistle of a Database Administrat...          2006   \n",
       "\n",
       "   language_id  original_language_id  rental_duration  rental_rate  length  \\\n",
       "0            1                   NaN                6         0.99      86   \n",
       "1            1                   NaN                3         4.99      48   \n",
       "\n",
       "   replacement_cost rating                  special_features  \\\n",
       "0             20.99     PG  Deleted Scenes,Behind the Scenes   \n",
       "1             12.99      G           Trailers,Deleted Scenes   \n",
       "\n",
       "           last_update  \n",
       "0  2006-02-15 05:03:42  \n",
       "1  2006-02-15 05:03:42  "
      ]
     },
     "execution_count": 8,
     "metadata": {},
     "output_type": "execute_result"
    }
   ],
   "source": [
    "film_csv.head(2)"
   ]
  },
  {
   "cell_type": "code",
   "execution_count": 9,
   "id": "34e09cb6",
   "metadata": {},
   "outputs": [
    {
     "name": "stdout",
     "output_type": "stream",
     "text": [
      "<class 'pandas.core.frame.DataFrame'>\n",
      "RangeIndex: 1000 entries, 0 to 999\n",
      "Data columns (total 13 columns):\n",
      " #   Column                Non-Null Count  Dtype  \n",
      "---  ------                --------------  -----  \n",
      " 0   film_id               1000 non-null   int64  \n",
      " 1   title                 1000 non-null   object \n",
      " 2   description           1000 non-null   object \n",
      " 3   release_year          1000 non-null   int64  \n",
      " 4   language_id           1000 non-null   int64  \n",
      " 5   original_language_id  0 non-null      float64\n",
      " 6   rental_duration       1000 non-null   int64  \n",
      " 7   rental_rate           1000 non-null   float64\n",
      " 8   length                1000 non-null   int64  \n",
      " 9   replacement_cost      1000 non-null   float64\n",
      " 10  rating                1000 non-null   object \n",
      " 11  special_features      1000 non-null   object \n",
      " 12  last_update           1000 non-null   object \n",
      "dtypes: float64(3), int64(5), object(5)\n",
      "memory usage: 101.7+ KB\n"
     ]
    }
   ],
   "source": [
    "film_csv.info()"
   ]
  },
  {
   "cell_type": "markdown",
   "id": "cb7dd8f7",
   "metadata": {},
   "source": [
    "Exploramos inventory_csv:"
   ]
  },
  {
   "cell_type": "code",
   "execution_count": 10,
   "id": "91da4e9a",
   "metadata": {},
   "outputs": [
    {
     "data": {
      "text/html": [
       "<div>\n",
       "<style scoped>\n",
       "    .dataframe tbody tr th:only-of-type {\n",
       "        vertical-align: middle;\n",
       "    }\n",
       "\n",
       "    .dataframe tbody tr th {\n",
       "        vertical-align: top;\n",
       "    }\n",
       "\n",
       "    .dataframe thead th {\n",
       "        text-align: right;\n",
       "    }\n",
       "</style>\n",
       "<table border=\"1\" class=\"dataframe\">\n",
       "  <thead>\n",
       "    <tr style=\"text-align: right;\">\n",
       "      <th></th>\n",
       "      <th>inventory_id</th>\n",
       "      <th>film_id</th>\n",
       "      <th>store_id</th>\n",
       "      <th>last_update</th>\n",
       "    </tr>\n",
       "  </thead>\n",
       "  <tbody>\n",
       "    <tr>\n",
       "      <th>0</th>\n",
       "      <td>1</td>\n",
       "      <td>1</td>\n",
       "      <td>1</td>\n",
       "      <td>2006-02-15 05:09:17</td>\n",
       "    </tr>\n",
       "    <tr>\n",
       "      <th>1</th>\n",
       "      <td>2</td>\n",
       "      <td>1</td>\n",
       "      <td>1</td>\n",
       "      <td>2006-02-15 05:09:17</td>\n",
       "    </tr>\n",
       "  </tbody>\n",
       "</table>\n",
       "</div>"
      ],
      "text/plain": [
       "   inventory_id  film_id  store_id          last_update\n",
       "0             1        1         1  2006-02-15 05:09:17\n",
       "1             2        1         1  2006-02-15 05:09:17"
      ]
     },
     "execution_count": 10,
     "metadata": {},
     "output_type": "execute_result"
    }
   ],
   "source": [
    "inventory_csv.head(2)"
   ]
  },
  {
   "cell_type": "code",
   "execution_count": 11,
   "id": "d2eb41fd",
   "metadata": {},
   "outputs": [
    {
     "name": "stdout",
     "output_type": "stream",
     "text": [
      "<class 'pandas.core.frame.DataFrame'>\n",
      "RangeIndex: 1000 entries, 0 to 999\n",
      "Data columns (total 4 columns):\n",
      " #   Column        Non-Null Count  Dtype \n",
      "---  ------        --------------  ----- \n",
      " 0   inventory_id  1000 non-null   int64 \n",
      " 1   film_id       1000 non-null   int64 \n",
      " 2   store_id      1000 non-null   int64 \n",
      " 3   last_update   1000 non-null   object\n",
      "dtypes: int64(3), object(1)\n",
      "memory usage: 31.4+ KB\n"
     ]
    }
   ],
   "source": [
    "inventory_csv.info()"
   ]
  },
  {
   "cell_type": "markdown",
   "id": "a8b70da3",
   "metadata": {},
   "source": [
    "Exploramos language_csv:"
   ]
  },
  {
   "cell_type": "code",
   "execution_count": 12,
   "id": "ac3fc336",
   "metadata": {},
   "outputs": [
    {
     "data": {
      "text/html": [
       "<div>\n",
       "<style scoped>\n",
       "    .dataframe tbody tr th:only-of-type {\n",
       "        vertical-align: middle;\n",
       "    }\n",
       "\n",
       "    .dataframe tbody tr th {\n",
       "        vertical-align: top;\n",
       "    }\n",
       "\n",
       "    .dataframe thead th {\n",
       "        text-align: right;\n",
       "    }\n",
       "</style>\n",
       "<table border=\"1\" class=\"dataframe\">\n",
       "  <thead>\n",
       "    <tr style=\"text-align: right;\">\n",
       "      <th></th>\n",
       "      <th>language_id</th>\n",
       "      <th>name</th>\n",
       "      <th>last_update</th>\n",
       "    </tr>\n",
       "  </thead>\n",
       "  <tbody>\n",
       "    <tr>\n",
       "      <th>0</th>\n",
       "      <td>1</td>\n",
       "      <td>English</td>\n",
       "      <td>2006-02-15 05:02:19</td>\n",
       "    </tr>\n",
       "    <tr>\n",
       "      <th>1</th>\n",
       "      <td>2</td>\n",
       "      <td>Italian</td>\n",
       "      <td>2006-02-15 05:02:19</td>\n",
       "    </tr>\n",
       "  </tbody>\n",
       "</table>\n",
       "</div>"
      ],
      "text/plain": [
       "   language_id     name          last_update\n",
       "0            1  English  2006-02-15 05:02:19\n",
       "1            2  Italian  2006-02-15 05:02:19"
      ]
     },
     "execution_count": 12,
     "metadata": {},
     "output_type": "execute_result"
    }
   ],
   "source": [
    "language_csv.head(2)"
   ]
  },
  {
   "cell_type": "code",
   "execution_count": 13,
   "id": "54a0cd5a",
   "metadata": {},
   "outputs": [
    {
     "name": "stdout",
     "output_type": "stream",
     "text": [
      "<class 'pandas.core.frame.DataFrame'>\n",
      "RangeIndex: 6 entries, 0 to 5\n",
      "Data columns (total 3 columns):\n",
      " #   Column       Non-Null Count  Dtype \n",
      "---  ------       --------------  ----- \n",
      " 0   language_id  6 non-null      int64 \n",
      " 1   name         6 non-null      object\n",
      " 2   last_update  6 non-null      object\n",
      "dtypes: int64(1), object(2)\n",
      "memory usage: 272.0+ bytes\n"
     ]
    }
   ],
   "source": [
    "language_csv.info()"
   ]
  },
  {
   "cell_type": "markdown",
   "id": "d25c22ee",
   "metadata": {},
   "source": [
    "Exploramos rental_csv:"
   ]
  },
  {
   "cell_type": "code",
   "execution_count": 14,
   "id": "dd3fad12",
   "metadata": {},
   "outputs": [
    {
     "data": {
      "text/html": [
       "<div>\n",
       "<style scoped>\n",
       "    .dataframe tbody tr th:only-of-type {\n",
       "        vertical-align: middle;\n",
       "    }\n",
       "\n",
       "    .dataframe tbody tr th {\n",
       "        vertical-align: top;\n",
       "    }\n",
       "\n",
       "    .dataframe thead th {\n",
       "        text-align: right;\n",
       "    }\n",
       "</style>\n",
       "<table border=\"1\" class=\"dataframe\">\n",
       "  <thead>\n",
       "    <tr style=\"text-align: right;\">\n",
       "      <th></th>\n",
       "      <th>rental_id</th>\n",
       "      <th>rental_date</th>\n",
       "      <th>inventory_id</th>\n",
       "      <th>customer_id</th>\n",
       "      <th>return_date</th>\n",
       "      <th>staff_id</th>\n",
       "      <th>last_update</th>\n",
       "    </tr>\n",
       "  </thead>\n",
       "  <tbody>\n",
       "    <tr>\n",
       "      <th>0</th>\n",
       "      <td>1</td>\n",
       "      <td>2005-05-24 22:53:30</td>\n",
       "      <td>367</td>\n",
       "      <td>130</td>\n",
       "      <td>2005-05-26 22:04:30</td>\n",
       "      <td>1</td>\n",
       "      <td>2006-02-15 21:30:53</td>\n",
       "    </tr>\n",
       "    <tr>\n",
       "      <th>1</th>\n",
       "      <td>2</td>\n",
       "      <td>2005-05-24 22:54:33</td>\n",
       "      <td>1525</td>\n",
       "      <td>459</td>\n",
       "      <td>2005-05-28 19:40:33</td>\n",
       "      <td>1</td>\n",
       "      <td>2006-02-15 21:30:53</td>\n",
       "    </tr>\n",
       "  </tbody>\n",
       "</table>\n",
       "</div>"
      ],
      "text/plain": [
       "   rental_id          rental_date  inventory_id  customer_id  \\\n",
       "0          1  2005-05-24 22:53:30           367          130   \n",
       "1          2  2005-05-24 22:54:33          1525          459   \n",
       "\n",
       "           return_date  staff_id          last_update  \n",
       "0  2005-05-26 22:04:30         1  2006-02-15 21:30:53  \n",
       "1  2005-05-28 19:40:33         1  2006-02-15 21:30:53  "
      ]
     },
     "execution_count": 14,
     "metadata": {},
     "output_type": "execute_result"
    }
   ],
   "source": [
    "rental_csv.head(2)"
   ]
  },
  {
   "cell_type": "code",
   "execution_count": 15,
   "id": "a69b1f77",
   "metadata": {},
   "outputs": [
    {
     "name": "stdout",
     "output_type": "stream",
     "text": [
      "<class 'pandas.core.frame.DataFrame'>\n",
      "RangeIndex: 1000 entries, 0 to 999\n",
      "Data columns (total 7 columns):\n",
      " #   Column        Non-Null Count  Dtype \n",
      "---  ------        --------------  ----- \n",
      " 0   rental_id     1000 non-null   int64 \n",
      " 1   rental_date   1000 non-null   object\n",
      " 2   inventory_id  1000 non-null   int64 \n",
      " 3   customer_id   1000 non-null   int64 \n",
      " 4   return_date   1000 non-null   object\n",
      " 5   staff_id      1000 non-null   int64 \n",
      " 6   last_update   1000 non-null   object\n",
      "dtypes: int64(4), object(3)\n",
      "memory usage: 54.8+ KB\n"
     ]
    }
   ],
   "source": [
    "rental_csv.info()"
   ]
  },
  {
   "cell_type": "markdown",
   "id": "1a47a8e0",
   "metadata": {},
   "source": [
    "Exploramos old_hdd_csv:"
   ]
  },
  {
   "cell_type": "code",
   "execution_count": 16,
   "id": "c04be006",
   "metadata": {},
   "outputs": [
    {
     "data": {
      "text/html": [
       "<div>\n",
       "<style scoped>\n",
       "    .dataframe tbody tr th:only-of-type {\n",
       "        vertical-align: middle;\n",
       "    }\n",
       "\n",
       "    .dataframe tbody tr th {\n",
       "        vertical-align: top;\n",
       "    }\n",
       "\n",
       "    .dataframe thead th {\n",
       "        text-align: right;\n",
       "    }\n",
       "</style>\n",
       "<table border=\"1\" class=\"dataframe\">\n",
       "  <thead>\n",
       "    <tr style=\"text-align: right;\">\n",
       "      <th></th>\n",
       "      <th>first_name</th>\n",
       "      <th>last_name</th>\n",
       "      <th>title</th>\n",
       "      <th>release_year</th>\n",
       "      <th>category_id</th>\n",
       "    </tr>\n",
       "  </thead>\n",
       "  <tbody>\n",
       "    <tr>\n",
       "      <th>0</th>\n",
       "      <td>PENELOPE</td>\n",
       "      <td>GUINESS</td>\n",
       "      <td>ACADEMY DINOSAUR</td>\n",
       "      <td>2006</td>\n",
       "      <td>6</td>\n",
       "    </tr>\n",
       "  </tbody>\n",
       "</table>\n",
       "</div>"
      ],
      "text/plain": [
       "  first_name last_name             title  release_year  category_id\n",
       "0   PENELOPE   GUINESS  ACADEMY DINOSAUR          2006            6"
      ]
     },
     "execution_count": 16,
     "metadata": {},
     "output_type": "execute_result"
    }
   ],
   "source": [
    "old_hdd_csv.head(1)"
   ]
  },
  {
   "cell_type": "code",
   "execution_count": 17,
   "id": "d89a6f36",
   "metadata": {},
   "outputs": [
    {
     "name": "stdout",
     "output_type": "stream",
     "text": [
      "<class 'pandas.core.frame.DataFrame'>\n",
      "RangeIndex: 1000 entries, 0 to 999\n",
      "Data columns (total 5 columns):\n",
      " #   Column        Non-Null Count  Dtype \n",
      "---  ------        --------------  ----- \n",
      " 0   first_name    1000 non-null   object\n",
      " 1   last_name     1000 non-null   object\n",
      " 2   title         1000 non-null   object\n",
      " 3   release_year  1000 non-null   int64 \n",
      " 4   category_id   1000 non-null   int64 \n",
      "dtypes: int64(2), object(3)\n",
      "memory usage: 39.2+ KB\n"
     ]
    }
   ],
   "source": [
    "old_hdd_csv.info()"
   ]
  },
  {
   "cell_type": "markdown",
   "id": "982ff66b",
   "metadata": {},
   "source": [
    "Después de explorar las tablas vemos que es un negocio de alquiler de películas. \n",
    "\n",
    "Por un lado tenemos la tabla rental_csv que es como si fueran los invoices, es decir para cada película que se alquila tenemos la información sobre esa operación. Esta tabla se relaciona por un lado a inventory_csv por el inventory_id ya que tenemos que saber que cinta particular de nuestro stock se ha alquilado. De la misma manera, el inventory_csv esta unido a film_csv por el film_id ya que tenemos que saber a que título de película corresponde la cinta que estamos alquilando. \n",
    "\n",
    "\n",
    "También tenemos relación entrar film_csv y language_csv >> están relacionadas por el language_id ya que tenemos que saber en que lenguaje está la película.\n",
    "\n",
    "Finalmente tenemos otra tabla llamada old_hdd_csv que une por un lado con la tabla category_csv a través del category_id, por otro lado con la tabla film_csv a través de title y con actor_csv a través de name y first_name.\n",
    "\n",
    "#### Entre film_csv y actor_csv habrá una relación many to many y entre category_id y film_id habrá una relación one to one"
   ]
  },
  {
   "cell_type": "markdown",
   "id": "51c163be",
   "metadata": {},
   "source": [
    "# Limpieza de Datos"
   ]
  },
  {
   "cell_type": "markdown",
   "id": "190749e8",
   "metadata": {},
   "source": [
    "Hemos visto que solo hay nulos en el film_csv en la columna original_language_id que es toda nula, por lo que vamos a eliminar la columna directamente"
   ]
  },
  {
   "cell_type": "code",
   "execution_count": 18,
   "id": "2613ee7d",
   "metadata": {},
   "outputs": [],
   "source": [
    "film_csv.drop('original_language_id', axis=1, inplace=True)"
   ]
  },
  {
   "cell_type": "code",
   "execution_count": 19,
   "id": "e81d5094",
   "metadata": {},
   "outputs": [
    {
     "data": {
      "text/html": [
       "<div>\n",
       "<style scoped>\n",
       "    .dataframe tbody tr th:only-of-type {\n",
       "        vertical-align: middle;\n",
       "    }\n",
       "\n",
       "    .dataframe tbody tr th {\n",
       "        vertical-align: top;\n",
       "    }\n",
       "\n",
       "    .dataframe thead th {\n",
       "        text-align: right;\n",
       "    }\n",
       "</style>\n",
       "<table border=\"1\" class=\"dataframe\">\n",
       "  <thead>\n",
       "    <tr style=\"text-align: right;\">\n",
       "      <th></th>\n",
       "      <th>film_id</th>\n",
       "      <th>title</th>\n",
       "      <th>description</th>\n",
       "      <th>release_year</th>\n",
       "      <th>language_id</th>\n",
       "      <th>rental_duration</th>\n",
       "      <th>rental_rate</th>\n",
       "      <th>length</th>\n",
       "      <th>replacement_cost</th>\n",
       "      <th>rating</th>\n",
       "      <th>special_features</th>\n",
       "      <th>last_update</th>\n",
       "    </tr>\n",
       "  </thead>\n",
       "  <tbody>\n",
       "    <tr>\n",
       "      <th>0</th>\n",
       "      <td>1</td>\n",
       "      <td>ACADEMY DINOSAUR</td>\n",
       "      <td>A Epic Drama of a Feminist And a Mad Scientist...</td>\n",
       "      <td>2006</td>\n",
       "      <td>1</td>\n",
       "      <td>6</td>\n",
       "      <td>0.99</td>\n",
       "      <td>86</td>\n",
       "      <td>20.99</td>\n",
       "      <td>PG</td>\n",
       "      <td>Deleted Scenes,Behind the Scenes</td>\n",
       "      <td>2006-02-15 05:03:42</td>\n",
       "    </tr>\n",
       "  </tbody>\n",
       "</table>\n",
       "</div>"
      ],
      "text/plain": [
       "   film_id             title  \\\n",
       "0        1  ACADEMY DINOSAUR   \n",
       "\n",
       "                                         description  release_year  \\\n",
       "0  A Epic Drama of a Feminist And a Mad Scientist...          2006   \n",
       "\n",
       "   language_id  rental_duration  rental_rate  length  replacement_cost rating  \\\n",
       "0            1                6         0.99      86             20.99     PG   \n",
       "\n",
       "                   special_features          last_update  \n",
       "0  Deleted Scenes,Behind the Scenes  2006-02-15 05:03:42  "
      ]
     },
     "execution_count": 19,
     "metadata": {},
     "output_type": "execute_result"
    }
   ],
   "source": [
    "film_csv.head(1)"
   ]
  },
  {
   "cell_type": "markdown",
   "id": "0e12d1cd",
   "metadata": {},
   "source": [
    "Vamos a eliminar los duplicados"
   ]
  },
  {
   "cell_type": "code",
   "execution_count": 20,
   "id": "00bd4275",
   "metadata": {},
   "outputs": [
    {
     "data": {
      "text/plain": [
       "False"
      ]
     },
     "execution_count": 20,
     "metadata": {},
     "output_type": "execute_result"
    }
   ],
   "source": [
    "actor_csv.duplicated().any()"
   ]
  },
  {
   "cell_type": "code",
   "execution_count": 21,
   "id": "5efd7997",
   "metadata": {},
   "outputs": [
    {
     "data": {
      "text/plain": [
       "False"
      ]
     },
     "execution_count": 21,
     "metadata": {},
     "output_type": "execute_result"
    }
   ],
   "source": [
    "category_csv.duplicated().any()"
   ]
  },
  {
   "cell_type": "code",
   "execution_count": 22,
   "id": "6d880191",
   "metadata": {},
   "outputs": [
    {
     "data": {
      "text/plain": [
       "False"
      ]
     },
     "execution_count": 22,
     "metadata": {},
     "output_type": "execute_result"
    }
   ],
   "source": [
    "film_csv.duplicated().any()"
   ]
  },
  {
   "cell_type": "code",
   "execution_count": 23,
   "id": "524768c5",
   "metadata": {},
   "outputs": [
    {
     "data": {
      "text/plain": [
       "False"
      ]
     },
     "execution_count": 23,
     "metadata": {},
     "output_type": "execute_result"
    }
   ],
   "source": [
    "inventory_csv.duplicated().any()\n"
   ]
  },
  {
   "cell_type": "code",
   "execution_count": 24,
   "id": "b86cd5bb",
   "metadata": {},
   "outputs": [
    {
     "data": {
      "text/plain": [
       "False"
      ]
     },
     "execution_count": 24,
     "metadata": {},
     "output_type": "execute_result"
    }
   ],
   "source": [
    "language_csv.duplicated().any()\n"
   ]
  },
  {
   "cell_type": "code",
   "execution_count": 25,
   "id": "e8e2a6e3",
   "metadata": {},
   "outputs": [
    {
     "data": {
      "text/plain": [
       "False"
      ]
     },
     "execution_count": 25,
     "metadata": {},
     "output_type": "execute_result"
    }
   ],
   "source": [
    "rental_csv.duplicated().any()"
   ]
  },
  {
   "cell_type": "code",
   "execution_count": 26,
   "id": "f585228e",
   "metadata": {},
   "outputs": [
    {
     "data": {
      "text/plain": [
       "False"
      ]
     },
     "execution_count": 26,
     "metadata": {},
     "output_type": "execute_result"
    }
   ],
   "source": [
    "old_hdd_csv.duplicated().any()"
   ]
  },
  {
   "cell_type": "markdown",
   "id": "8a71360e",
   "metadata": {},
   "source": [
    "No hay duplicados en ningún csv por lo que ya están limpios los datos"
   ]
  },
  {
   "cell_type": "markdown",
   "id": "08437553",
   "metadata": {},
   "source": [
    "Las columnas last_update entiendo que hacen referencia a la última vez que se actualizó la base de datos por lo que no me van a ofrecer información relevante, así que las elimino."
   ]
  },
  {
   "cell_type": "code",
   "execution_count": 27,
   "id": "9d1be60d",
   "metadata": {},
   "outputs": [],
   "source": [
    "actor_csv.drop('last_update', axis=1, inplace=True)\n",
    "category_csv.drop('last_update', axis=1, inplace=True)\n",
    "film_csv.drop('last_update', axis=1, inplace=True)\n",
    "inventory_csv.drop('last_update', axis=1, inplace=True)\n",
    "language_csv.drop('last_update', axis=1, inplace=True)\n",
    "rental_csv.drop('last_update', axis=1, inplace=True)"
   ]
  },
  {
   "cell_type": "markdown",
   "id": "e5a905b9",
   "metadata": {},
   "source": [
    "## Unimos first_name y last_name en actor_csv y old_hdd_csv"
   ]
  },
  {
   "cell_type": "code",
   "execution_count": 28,
   "id": "247bd426",
   "metadata": {},
   "outputs": [],
   "source": [
    "actor_csv[\"full name\"]=actor_csv.first_name+\" \"+actor_csv.last_name"
   ]
  },
  {
   "cell_type": "code",
   "execution_count": 29,
   "id": "50b2c837",
   "metadata": {},
   "outputs": [
    {
     "data": {
      "text/html": [
       "<div>\n",
       "<style scoped>\n",
       "    .dataframe tbody tr th:only-of-type {\n",
       "        vertical-align: middle;\n",
       "    }\n",
       "\n",
       "    .dataframe tbody tr th {\n",
       "        vertical-align: top;\n",
       "    }\n",
       "\n",
       "    .dataframe thead th {\n",
       "        text-align: right;\n",
       "    }\n",
       "</style>\n",
       "<table border=\"1\" class=\"dataframe\">\n",
       "  <thead>\n",
       "    <tr style=\"text-align: right;\">\n",
       "      <th></th>\n",
       "      <th>film_id</th>\n",
       "      <th>title</th>\n",
       "      <th>description</th>\n",
       "      <th>release_year</th>\n",
       "      <th>language_id</th>\n",
       "      <th>rental_duration</th>\n",
       "      <th>rental_rate</th>\n",
       "      <th>length</th>\n",
       "      <th>replacement_cost</th>\n",
       "      <th>rating</th>\n",
       "      <th>special_features</th>\n",
       "    </tr>\n",
       "  </thead>\n",
       "  <tbody>\n",
       "    <tr>\n",
       "      <th>995</th>\n",
       "      <td>996</td>\n",
       "      <td>YOUNG LANGUAGE</td>\n",
       "      <td>A Unbelieveable Yarn of a Boat And a Database ...</td>\n",
       "      <td>2006</td>\n",
       "      <td>1</td>\n",
       "      <td>6</td>\n",
       "      <td>0.99</td>\n",
       "      <td>183</td>\n",
       "      <td>9.99</td>\n",
       "      <td>G</td>\n",
       "      <td>Trailers,Behind the Scenes</td>\n",
       "    </tr>\n",
       "    <tr>\n",
       "      <th>996</th>\n",
       "      <td>997</td>\n",
       "      <td>YOUTH KICK</td>\n",
       "      <td>A Touching Drama of a Teacher And a Cat who mu...</td>\n",
       "      <td>2006</td>\n",
       "      <td>1</td>\n",
       "      <td>4</td>\n",
       "      <td>0.99</td>\n",
       "      <td>179</td>\n",
       "      <td>14.99</td>\n",
       "      <td>NC-17</td>\n",
       "      <td>Trailers,Behind the Scenes</td>\n",
       "    </tr>\n",
       "    <tr>\n",
       "      <th>997</th>\n",
       "      <td>998</td>\n",
       "      <td>ZHIVAGO CORE</td>\n",
       "      <td>A Fateful Yarn of a Composer And a Man who mus...</td>\n",
       "      <td>2006</td>\n",
       "      <td>1</td>\n",
       "      <td>6</td>\n",
       "      <td>0.99</td>\n",
       "      <td>105</td>\n",
       "      <td>10.99</td>\n",
       "      <td>NC-17</td>\n",
       "      <td>Deleted Scenes</td>\n",
       "    </tr>\n",
       "    <tr>\n",
       "      <th>998</th>\n",
       "      <td>999</td>\n",
       "      <td>ZOOLANDER FICTION</td>\n",
       "      <td>A Fateful Reflection of a Waitress And a Boat ...</td>\n",
       "      <td>2006</td>\n",
       "      <td>1</td>\n",
       "      <td>5</td>\n",
       "      <td>2.99</td>\n",
       "      <td>101</td>\n",
       "      <td>28.99</td>\n",
       "      <td>R</td>\n",
       "      <td>Trailers,Deleted Scenes</td>\n",
       "    </tr>\n",
       "    <tr>\n",
       "      <th>999</th>\n",
       "      <td>1000</td>\n",
       "      <td>ZORRO ARK</td>\n",
       "      <td>A Intrepid Panorama of a Mad Scientist And a B...</td>\n",
       "      <td>2006</td>\n",
       "      <td>1</td>\n",
       "      <td>3</td>\n",
       "      <td>4.99</td>\n",
       "      <td>50</td>\n",
       "      <td>18.99</td>\n",
       "      <td>NC-17</td>\n",
       "      <td>Trailers,Commentaries,Behind the Scenes</td>\n",
       "    </tr>\n",
       "  </tbody>\n",
       "</table>\n",
       "</div>"
      ],
      "text/plain": [
       "     film_id              title  \\\n",
       "995      996     YOUNG LANGUAGE   \n",
       "996      997         YOUTH KICK   \n",
       "997      998       ZHIVAGO CORE   \n",
       "998      999  ZOOLANDER FICTION   \n",
       "999     1000          ZORRO ARK   \n",
       "\n",
       "                                           description  release_year  \\\n",
       "995  A Unbelieveable Yarn of a Boat And a Database ...          2006   \n",
       "996  A Touching Drama of a Teacher And a Cat who mu...          2006   \n",
       "997  A Fateful Yarn of a Composer And a Man who mus...          2006   \n",
       "998  A Fateful Reflection of a Waitress And a Boat ...          2006   \n",
       "999  A Intrepid Panorama of a Mad Scientist And a B...          2006   \n",
       "\n",
       "     language_id  rental_duration  rental_rate  length  replacement_cost  \\\n",
       "995            1                6         0.99     183              9.99   \n",
       "996            1                4         0.99     179             14.99   \n",
       "997            1                6         0.99     105             10.99   \n",
       "998            1                5         2.99     101             28.99   \n",
       "999            1                3         4.99      50             18.99   \n",
       "\n",
       "    rating                         special_features  \n",
       "995      G               Trailers,Behind the Scenes  \n",
       "996  NC-17               Trailers,Behind the Scenes  \n",
       "997  NC-17                           Deleted Scenes  \n",
       "998      R                  Trailers,Deleted Scenes  \n",
       "999  NC-17  Trailers,Commentaries,Behind the Scenes  "
      ]
     },
     "execution_count": 29,
     "metadata": {},
     "output_type": "execute_result"
    }
   ],
   "source": [
    "film_csv.tail()"
   ]
  },
  {
   "cell_type": "code",
   "execution_count": 30,
   "id": "ff2f3775",
   "metadata": {},
   "outputs": [
    {
     "data": {
      "text/html": [
       "<div>\n",
       "<style scoped>\n",
       "    .dataframe tbody tr th:only-of-type {\n",
       "        vertical-align: middle;\n",
       "    }\n",
       "\n",
       "    .dataframe tbody tr th {\n",
       "        vertical-align: top;\n",
       "    }\n",
       "\n",
       "    .dataframe thead th {\n",
       "        text-align: right;\n",
       "    }\n",
       "</style>\n",
       "<table border=\"1\" class=\"dataframe\">\n",
       "  <thead>\n",
       "    <tr style=\"text-align: right;\">\n",
       "      <th></th>\n",
       "      <th>actor_id</th>\n",
       "      <th>first_name</th>\n",
       "      <th>last_name</th>\n",
       "      <th>full name</th>\n",
       "    </tr>\n",
       "  </thead>\n",
       "  <tbody>\n",
       "    <tr>\n",
       "      <th>0</th>\n",
       "      <td>1</td>\n",
       "      <td>PENELOPE</td>\n",
       "      <td>GUINESS</td>\n",
       "      <td>PENELOPE GUINESS</td>\n",
       "    </tr>\n",
       "  </tbody>\n",
       "</table>\n",
       "</div>"
      ],
      "text/plain": [
       "   actor_id first_name last_name         full name\n",
       "0         1   PENELOPE   GUINESS  PENELOPE GUINESS"
      ]
     },
     "execution_count": 30,
     "metadata": {},
     "output_type": "execute_result"
    }
   ],
   "source": [
    "actor_csv.head(1)"
   ]
  },
  {
   "cell_type": "code",
   "execution_count": 31,
   "id": "27dc7b8d",
   "metadata": {},
   "outputs": [],
   "source": [
    "old_hdd_csv[\"full name\"]=old_hdd_csv.first_name+\" \"+old_hdd_csv.last_name"
   ]
  },
  {
   "cell_type": "markdown",
   "id": "4d66d476",
   "metadata": {},
   "source": [
    "Vamos a elimnar columnas first name y last_name"
   ]
  },
  {
   "cell_type": "code",
   "execution_count": 32,
   "id": "796c1822",
   "metadata": {},
   "outputs": [],
   "source": [
    "old_hdd_csv.drop('first_name', axis=1, inplace=True)"
   ]
  },
  {
   "cell_type": "code",
   "execution_count": 33,
   "id": "4a87441c",
   "metadata": {},
   "outputs": [],
   "source": [
    "old_hdd_csv.drop('last_name', axis=1, inplace=True)"
   ]
  },
  {
   "cell_type": "code",
   "execution_count": 34,
   "id": "d52686dc",
   "metadata": {},
   "outputs": [
    {
     "data": {
      "text/html": [
       "<div>\n",
       "<style scoped>\n",
       "    .dataframe tbody tr th:only-of-type {\n",
       "        vertical-align: middle;\n",
       "    }\n",
       "\n",
       "    .dataframe tbody tr th {\n",
       "        vertical-align: top;\n",
       "    }\n",
       "\n",
       "    .dataframe thead th {\n",
       "        text-align: right;\n",
       "    }\n",
       "</style>\n",
       "<table border=\"1\" class=\"dataframe\">\n",
       "  <thead>\n",
       "    <tr style=\"text-align: right;\">\n",
       "      <th></th>\n",
       "      <th>title</th>\n",
       "      <th>release_year</th>\n",
       "      <th>category_id</th>\n",
       "      <th>full name</th>\n",
       "    </tr>\n",
       "  </thead>\n",
       "  <tbody>\n",
       "    <tr>\n",
       "      <th>0</th>\n",
       "      <td>ACADEMY DINOSAUR</td>\n",
       "      <td>2006</td>\n",
       "      <td>6</td>\n",
       "      <td>PENELOPE GUINESS</td>\n",
       "    </tr>\n",
       "  </tbody>\n",
       "</table>\n",
       "</div>"
      ],
      "text/plain": [
       "              title  release_year  category_id         full name\n",
       "0  ACADEMY DINOSAUR          2006            6  PENELOPE GUINESS"
      ]
     },
     "execution_count": 34,
     "metadata": {},
     "output_type": "execute_result"
    }
   ],
   "source": [
    "old_hdd_csv.head(1)"
   ]
  },
  {
   "cell_type": "markdown",
   "id": "613def7f",
   "metadata": {},
   "source": [
    "## Unión film_csv y old_hdd_csv"
   ]
  },
  {
   "cell_type": "markdown",
   "id": "92e34616",
   "metadata": {},
   "source": [
    "Estas dos columnas están relacionadas for \"title\". El problema es que si comparamos, en old_hdd_csv no están incluidos todos los títulos de film_csv"
   ]
  },
  {
   "cell_type": "code",
   "execution_count": 35,
   "id": "eb683212",
   "metadata": {},
   "outputs": [
    {
     "data": {
      "text/plain": [
       "array([ True, False])"
      ]
     },
     "execution_count": 35,
     "metadata": {},
     "output_type": "execute_result"
    }
   ],
   "source": [
    "film_csv.title.isin(old_hdd_csv.title).unique()"
   ]
  },
  {
   "cell_type": "code",
   "execution_count": null,
   "id": "91e260be",
   "metadata": {},
   "outputs": [],
   "source": []
  },
  {
   "cell_type": "code",
   "execution_count": 36,
   "id": "39bfb6f8",
   "metadata": {},
   "outputs": [
    {
     "name": "stdout",
     "output_type": "stream",
     "text": [
      "<class 'pandas.core.frame.DataFrame'>\n",
      "RangeIndex: 1000 entries, 0 to 999\n",
      "Data columns (total 4 columns):\n",
      " #   Column        Non-Null Count  Dtype \n",
      "---  ------        --------------  ----- \n",
      " 0   title         1000 non-null   object\n",
      " 1   release_year  1000 non-null   int64 \n",
      " 2   category_id   1000 non-null   int64 \n",
      " 3   full name     1000 non-null   object\n",
      "dtypes: int64(2), object(2)\n",
      "memory usage: 31.4+ KB\n"
     ]
    }
   ],
   "source": [
    "old_hdd_csv.info()"
   ]
  },
  {
   "cell_type": "code",
   "execution_count": 37,
   "id": "84ba6f81",
   "metadata": {},
   "outputs": [],
   "source": [
    "frame_to_join=pd.DataFrame()"
   ]
  },
  {
   "cell_type": "code",
   "execution_count": 38,
   "id": "28c8d6c4",
   "metadata": {},
   "outputs": [],
   "source": [
    "frame_to_join['title']=film_csv.title[~film_csv['title'].isin(old_hdd_csv.title)]"
   ]
  },
  {
   "cell_type": "code",
   "execution_count": 39,
   "id": "5311784a",
   "metadata": {},
   "outputs": [],
   "source": [
    "frame_to_join['release_year']=film_csv.release_year[~film_csv['release_year'].isin(old_hdd_csv.title)]"
   ]
  },
  {
   "cell_type": "markdown",
   "id": "190bfbbf",
   "metadata": {},
   "source": [
    "El full_name del actor no lo sabemos para las películas que no están incluidas en old_hdd_csv por lo uqe rellenamos con unknown"
   ]
  },
  {
   "cell_type": "code",
   "execution_count": 40,
   "id": "d19a9e7d",
   "metadata": {},
   "outputs": [],
   "source": [
    "frame_to_join['full name']=\"Unknown\""
   ]
  },
  {
   "cell_type": "markdown",
   "id": "139381a0",
   "metadata": {},
   "source": [
    "nos falta añadir el category_id de las peliculas que faltan, no tenemos la información por lo que vamos a ponerle categoria 0 "
   ]
  },
  {
   "cell_type": "code",
   "execution_count": 41,
   "id": "14ef12ac",
   "metadata": {},
   "outputs": [],
   "source": [
    "frame_to_join['category_id']=0"
   ]
  },
  {
   "cell_type": "code",
   "execution_count": 42,
   "id": "21b025ac",
   "metadata": {},
   "outputs": [
    {
     "name": "stdout",
     "output_type": "stream",
     "text": [
      "<class 'pandas.core.frame.DataFrame'>\n",
      "Int64Index: 386 entries, 3 to 999\n",
      "Data columns (total 4 columns):\n",
      " #   Column        Non-Null Count  Dtype \n",
      "---  ------        --------------  ----- \n",
      " 0   title         386 non-null    object\n",
      " 1   release_year  386 non-null    int64 \n",
      " 2   full name     386 non-null    object\n",
      " 3   category_id   386 non-null    int64 \n",
      "dtypes: int64(2), object(2)\n",
      "memory usage: 15.1+ KB\n"
     ]
    }
   ],
   "source": [
    "frame_to_join.info()"
   ]
  },
  {
   "cell_type": "markdown",
   "id": "298a7e17",
   "metadata": {},
   "source": [
    "Ahora vamos a unir las Dataframes old_hdd_csv y frame_to_join\n"
   ]
  },
  {
   "cell_type": "code",
   "execution_count": 43,
   "id": "4876e531",
   "metadata": {},
   "outputs": [],
   "source": [
    "old_hdd_csv=pd.concat([old_hdd_csv,frame_to_join])"
   ]
  },
  {
   "cell_type": "code",
   "execution_count": 56,
   "id": "7388fd54",
   "metadata": {},
   "outputs": [
    {
     "data": {
      "text/html": [
       "<div>\n",
       "<style scoped>\n",
       "    .dataframe tbody tr th:only-of-type {\n",
       "        vertical-align: middle;\n",
       "    }\n",
       "\n",
       "    .dataframe tbody tr th {\n",
       "        vertical-align: top;\n",
       "    }\n",
       "\n",
       "    .dataframe thead th {\n",
       "        text-align: right;\n",
       "    }\n",
       "</style>\n",
       "<table border=\"1\" class=\"dataframe\">\n",
       "  <thead>\n",
       "    <tr style=\"text-align: right;\">\n",
       "      <th></th>\n",
       "      <th>title</th>\n",
       "      <th>release_year</th>\n",
       "      <th>category_id</th>\n",
       "      <th>full name</th>\n",
       "    </tr>\n",
       "  </thead>\n",
       "  <tbody>\n",
       "    <tr>\n",
       "      <th>0</th>\n",
       "      <td>ACADEMY DINOSAUR</td>\n",
       "      <td>2006</td>\n",
       "      <td>6</td>\n",
       "      <td>PENELOPE GUINESS</td>\n",
       "    </tr>\n",
       "    <tr>\n",
       "      <th>1</th>\n",
       "      <td>ANACONDA CONFESSIONS</td>\n",
       "      <td>2006</td>\n",
       "      <td>2</td>\n",
       "      <td>PENELOPE GUINESS</td>\n",
       "    </tr>\n",
       "  </tbody>\n",
       "</table>\n",
       "</div>"
      ],
      "text/plain": [
       "                  title  release_year  category_id         full name\n",
       "0      ACADEMY DINOSAUR          2006            6  PENELOPE GUINESS\n",
       "1  ANACONDA CONFESSIONS          2006            2  PENELOPE GUINESS"
      ]
     },
     "execution_count": 56,
     "metadata": {},
     "output_type": "execute_result"
    }
   ],
   "source": [
    "old_hdd_csv.head(2)"
   ]
  },
  {
   "cell_type": "markdown",
   "id": "295c2674",
   "metadata": {},
   "source": [
    "## Añadiendo categoria"
   ]
  },
  {
   "cell_type": "markdown",
   "id": "aeb18e8b",
   "metadata": {},
   "source": [
    "Vamos a añadir una nueva categoria a category_id que sea categoria 0 == \"Unknown\" para que no nos den problema aquellas peliculas para las que no tenemos categorias "
   ]
  },
  {
   "cell_type": "code",
   "execution_count": 46,
   "id": "562d1fd6",
   "metadata": {},
   "outputs": [],
   "source": [
    "data=[{\"category_id\":0,\"name\":\"unknown\"}]"
   ]
  },
  {
   "cell_type": "code",
   "execution_count": 47,
   "id": "e89b4ea7",
   "metadata": {},
   "outputs": [],
   "source": [
    "category_csv=category_csv.append(data,ignore_index=True,sort=False)"
   ]
  },
  {
   "cell_type": "markdown",
   "id": "9869cd48",
   "metadata": {},
   "source": [
    "## Editamos el inventory_id"
   ]
  },
  {
   "cell_type": "markdown",
   "id": "30eae7bc",
   "metadata": {},
   "source": [
    "Como el inventory_id en la tabla inventory va solo del 1-1000 y  en la tabla rental tenemos una gran parte de inventories superiores a 1000, no podriamos trabajar con los inventory ids con la mayoria de películas. Entonces para poder trabajar bien, vamos a sustituir los valores de la columna inventory_id de la dataframe rental_csv por valores random entre el 1-1000. "
   ]
  },
  {
   "cell_type": "code",
   "execution_count": 48,
   "id": "84570fac",
   "metadata": {},
   "outputs": [],
   "source": [
    "rental_csv.inventory_id=np.random.randint(1,1000, size=len(rental_csv))"
   ]
  },
  {
   "cell_type": "markdown",
   "id": "e2b68f36",
   "metadata": {},
   "source": [
    "# Subimos los csv"
   ]
  },
  {
   "cell_type": "code",
   "execution_count": 49,
   "id": "bbf363e0",
   "metadata": {},
   "outputs": [],
   "source": [
    "category_csv.to_csv(\"../data/clean2_csv/category_new.csv\",index=False)"
   ]
  },
  {
   "cell_type": "code",
   "execution_count": 50,
   "id": "22a1216a",
   "metadata": {},
   "outputs": [],
   "source": [
    "inventory_csv.to_csv(\"../data/clean2_csv/inventory_new.csv\",index=False)"
   ]
  },
  {
   "cell_type": "code",
   "execution_count": 51,
   "id": "c8bf27e9",
   "metadata": {},
   "outputs": [],
   "source": [
    "language_csv.to_csv(\"../data/clean2_csv/language_new.csv\",index=False)"
   ]
  },
  {
   "cell_type": "code",
   "execution_count": 52,
   "id": "65c6b438",
   "metadata": {},
   "outputs": [],
   "source": [
    "rental_csv.to_csv(\"../data/clean2_csv/rental_new.csv\",index=False)"
   ]
  },
  {
   "cell_type": "code",
   "execution_count": 53,
   "id": "356dc073",
   "metadata": {},
   "outputs": [],
   "source": [
    "actor_csv.to_csv(\"../data/clean2_csv/actor.csv\",index=False)"
   ]
  },
  {
   "cell_type": "code",
   "execution_count": 54,
   "id": "7ece96e0",
   "metadata": {},
   "outputs": [],
   "source": [
    "film_csv.to_csv(\"../data/clean2_csv/film.csv\",index=False)"
   ]
  },
  {
   "cell_type": "code",
   "execution_count": 55,
   "id": "b725101e",
   "metadata": {},
   "outputs": [],
   "source": [
    "old_hdd_csv.to_csv(\"../data/clean2_csv/old_hdd.csv\",index=False)"
   ]
  },
  {
   "cell_type": "markdown",
   "id": "fdc8b991",
   "metadata": {},
   "source": [
    "Exportamos la nueva tabla a csv"
   ]
  }
 ],
 "metadata": {
  "kernelspec": {
   "display_name": "Ironhack",
   "language": "python",
   "name": "ironhack"
  },
  "language_info": {
   "codemirror_mode": {
    "name": "ipython",
    "version": 3
   },
   "file_extension": ".py",
   "mimetype": "text/x-python",
   "name": "python",
   "nbconvert_exporter": "python",
   "pygments_lexer": "ipython3",
   "version": "3.9.7"
  }
 },
 "nbformat": 4,
 "nbformat_minor": 5
}
